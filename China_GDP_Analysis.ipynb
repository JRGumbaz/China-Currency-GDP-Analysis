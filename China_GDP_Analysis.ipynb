{
 "cells": [
  {
   "cell_type": "code",
   "execution_count": 1,
   "id": "2108eb10-3f04-49df-9478-b6d25cf72e42",
   "metadata": {},
   "outputs": [],
   "source": [
    "import pandas as pd"
   ]
  },
  {
   "cell_type": "code",
   "execution_count": 3,
   "id": "e404c7e2-d689-40c9-9f8a-b9b449b0bea4",
   "metadata": {},
   "outputs": [],
   "source": [
    "gdp_file = \"API_NY.GDP.MKTP.CD_DS2_en_csv_v2_88.csv\"\n",
    "exchange_rate_file = \"AEXCHUS.csv\""
   ]
  },
  {
   "cell_type": "code",
   "execution_count": 4,
   "id": "a772c5ab-1956-4e7a-abb6-62b8aa568ae6",
   "metadata": {},
   "outputs": [],
   "source": [
    "gdp_df = pd.read_csv(gdp_file, skiprows=4)"
   ]
  },
  {
   "cell_type": "code",
   "execution_count": 5,
   "id": "242f4618-8fc4-4447-ac0a-53ddea12b78d",
   "metadata": {},
   "outputs": [],
   "source": [
    "exchange_df = pd.read_csv(exchange_rate_file)"
   ]
  },
  {
   "cell_type": "code",
   "execution_count": 6,
   "id": "eef528b1-a32d-49de-9274-7e3233840a58",
   "metadata": {},
   "outputs": [
    {
     "name": "stdout",
     "output_type": "stream",
     "text": [
      "GDP Data:\n"
     ]
    },
    {
     "data": {
      "text/html": [
       "<div>\n",
       "<style scoped>\n",
       "    .dataframe tbody tr th:only-of-type {\n",
       "        vertical-align: middle;\n",
       "    }\n",
       "\n",
       "    .dataframe tbody tr th {\n",
       "        vertical-align: top;\n",
       "    }\n",
       "\n",
       "    .dataframe thead th {\n",
       "        text-align: right;\n",
       "    }\n",
       "</style>\n",
       "<table border=\"1\" class=\"dataframe\">\n",
       "  <thead>\n",
       "    <tr style=\"text-align: right;\">\n",
       "      <th></th>\n",
       "      <th>Country Name</th>\n",
       "      <th>Country Code</th>\n",
       "      <th>Indicator Name</th>\n",
       "      <th>Indicator Code</th>\n",
       "      <th>1960</th>\n",
       "      <th>1961</th>\n",
       "      <th>1962</th>\n",
       "      <th>1963</th>\n",
       "      <th>1964</th>\n",
       "      <th>1965</th>\n",
       "      <th>...</th>\n",
       "      <th>2015</th>\n",
       "      <th>2016</th>\n",
       "      <th>2017</th>\n",
       "      <th>2018</th>\n",
       "      <th>2019</th>\n",
       "      <th>2020</th>\n",
       "      <th>2021</th>\n",
       "      <th>2022</th>\n",
       "      <th>2023</th>\n",
       "      <th>Unnamed: 68</th>\n",
       "    </tr>\n",
       "  </thead>\n",
       "  <tbody>\n",
       "    <tr>\n",
       "      <th>0</th>\n",
       "      <td>Aruba</td>\n",
       "      <td>ABW</td>\n",
       "      <td>GDP (current US$)</td>\n",
       "      <td>NY.GDP.MKTP.CD</td>\n",
       "      <td>NaN</td>\n",
       "      <td>NaN</td>\n",
       "      <td>NaN</td>\n",
       "      <td>NaN</td>\n",
       "      <td>NaN</td>\n",
       "      <td>NaN</td>\n",
       "      <td>...</td>\n",
       "      <td>2.962907e+09</td>\n",
       "      <td>2.983635e+09</td>\n",
       "      <td>3.092429e+09</td>\n",
       "      <td>3.276184e+09</td>\n",
       "      <td>3.395799e+09</td>\n",
       "      <td>2.481857e+09</td>\n",
       "      <td>2.929447e+09</td>\n",
       "      <td>3.279344e+09</td>\n",
       "      <td>3.648573e+09</td>\n",
       "      <td>NaN</td>\n",
       "    </tr>\n",
       "    <tr>\n",
       "      <th>1</th>\n",
       "      <td>Africa Eastern and Southern</td>\n",
       "      <td>AFE</td>\n",
       "      <td>GDP (current US$)</td>\n",
       "      <td>NY.GDP.MKTP.CD</td>\n",
       "      <td>2.421063e+10</td>\n",
       "      <td>2.496398e+10</td>\n",
       "      <td>2.707880e+10</td>\n",
       "      <td>3.177575e+10</td>\n",
       "      <td>3.028579e+10</td>\n",
       "      <td>3.381317e+10</td>\n",
       "      <td>...</td>\n",
       "      <td>8.982778e+11</td>\n",
       "      <td>8.289428e+11</td>\n",
       "      <td>9.729989e+11</td>\n",
       "      <td>1.012306e+12</td>\n",
       "      <td>1.009721e+12</td>\n",
       "      <td>9.333918e+11</td>\n",
       "      <td>1.085745e+12</td>\n",
       "      <td>1.191423e+12</td>\n",
       "      <td>1.245472e+12</td>\n",
       "      <td>NaN</td>\n",
       "    </tr>\n",
       "    <tr>\n",
       "      <th>2</th>\n",
       "      <td>Afghanistan</td>\n",
       "      <td>AFG</td>\n",
       "      <td>GDP (current US$)</td>\n",
       "      <td>NY.GDP.MKTP.CD</td>\n",
       "      <td>NaN</td>\n",
       "      <td>NaN</td>\n",
       "      <td>NaN</td>\n",
       "      <td>NaN</td>\n",
       "      <td>NaN</td>\n",
       "      <td>NaN</td>\n",
       "      <td>...</td>\n",
       "      <td>1.913422e+10</td>\n",
       "      <td>1.811657e+10</td>\n",
       "      <td>1.875346e+10</td>\n",
       "      <td>1.805322e+10</td>\n",
       "      <td>1.879944e+10</td>\n",
       "      <td>1.995593e+10</td>\n",
       "      <td>1.426000e+10</td>\n",
       "      <td>1.449724e+10</td>\n",
       "      <td>1.723305e+10</td>\n",
       "      <td>NaN</td>\n",
       "    </tr>\n",
       "    <tr>\n",
       "      <th>3</th>\n",
       "      <td>Africa Western and Central</td>\n",
       "      <td>AFW</td>\n",
       "      <td>GDP (current US$)</td>\n",
       "      <td>NY.GDP.MKTP.CD</td>\n",
       "      <td>1.190495e+10</td>\n",
       "      <td>1.270788e+10</td>\n",
       "      <td>1.363076e+10</td>\n",
       "      <td>1.446909e+10</td>\n",
       "      <td>1.580376e+10</td>\n",
       "      <td>1.692109e+10</td>\n",
       "      <td>...</td>\n",
       "      <td>7.717669e+11</td>\n",
       "      <td>6.943610e+11</td>\n",
       "      <td>6.878492e+11</td>\n",
       "      <td>7.704950e+11</td>\n",
       "      <td>8.264838e+11</td>\n",
       "      <td>7.898017e+11</td>\n",
       "      <td>8.493124e+11</td>\n",
       "      <td>8.839739e+11</td>\n",
       "      <td>7.991060e+11</td>\n",
       "      <td>NaN</td>\n",
       "    </tr>\n",
       "    <tr>\n",
       "      <th>4</th>\n",
       "      <td>Angola</td>\n",
       "      <td>AGO</td>\n",
       "      <td>GDP (current US$)</td>\n",
       "      <td>NY.GDP.MKTP.CD</td>\n",
       "      <td>NaN</td>\n",
       "      <td>NaN</td>\n",
       "      <td>NaN</td>\n",
       "      <td>NaN</td>\n",
       "      <td>NaN</td>\n",
       "      <td>NaN</td>\n",
       "      <td>...</td>\n",
       "      <td>9.049642e+10</td>\n",
       "      <td>5.276162e+10</td>\n",
       "      <td>7.369015e+10</td>\n",
       "      <td>7.945069e+10</td>\n",
       "      <td>7.089796e+10</td>\n",
       "      <td>4.850156e+10</td>\n",
       "      <td>6.650513e+10</td>\n",
       "      <td>1.043997e+11</td>\n",
       "      <td>8.482465e+10</td>\n",
       "      <td>NaN</td>\n",
       "    </tr>\n",
       "  </tbody>\n",
       "</table>\n",
       "<p>5 rows × 69 columns</p>\n",
       "</div>"
      ],
      "text/plain": [
       "                  Country Name Country Code     Indicator Name  \\\n",
       "0                        Aruba          ABW  GDP (current US$)   \n",
       "1  Africa Eastern and Southern          AFE  GDP (current US$)   \n",
       "2                  Afghanistan          AFG  GDP (current US$)   \n",
       "3   Africa Western and Central          AFW  GDP (current US$)   \n",
       "4                       Angola          AGO  GDP (current US$)   \n",
       "\n",
       "   Indicator Code          1960          1961          1962          1963  \\\n",
       "0  NY.GDP.MKTP.CD           NaN           NaN           NaN           NaN   \n",
       "1  NY.GDP.MKTP.CD  2.421063e+10  2.496398e+10  2.707880e+10  3.177575e+10   \n",
       "2  NY.GDP.MKTP.CD           NaN           NaN           NaN           NaN   \n",
       "3  NY.GDP.MKTP.CD  1.190495e+10  1.270788e+10  1.363076e+10  1.446909e+10   \n",
       "4  NY.GDP.MKTP.CD           NaN           NaN           NaN           NaN   \n",
       "\n",
       "           1964          1965  ...          2015          2016          2017  \\\n",
       "0           NaN           NaN  ...  2.962907e+09  2.983635e+09  3.092429e+09   \n",
       "1  3.028579e+10  3.381317e+10  ...  8.982778e+11  8.289428e+11  9.729989e+11   \n",
       "2           NaN           NaN  ...  1.913422e+10  1.811657e+10  1.875346e+10   \n",
       "3  1.580376e+10  1.692109e+10  ...  7.717669e+11  6.943610e+11  6.878492e+11   \n",
       "4           NaN           NaN  ...  9.049642e+10  5.276162e+10  7.369015e+10   \n",
       "\n",
       "           2018          2019          2020          2021          2022  \\\n",
       "0  3.276184e+09  3.395799e+09  2.481857e+09  2.929447e+09  3.279344e+09   \n",
       "1  1.012306e+12  1.009721e+12  9.333918e+11  1.085745e+12  1.191423e+12   \n",
       "2  1.805322e+10  1.879944e+10  1.995593e+10  1.426000e+10  1.449724e+10   \n",
       "3  7.704950e+11  8.264838e+11  7.898017e+11  8.493124e+11  8.839739e+11   \n",
       "4  7.945069e+10  7.089796e+10  4.850156e+10  6.650513e+10  1.043997e+11   \n",
       "\n",
       "           2023  Unnamed: 68  \n",
       "0  3.648573e+09          NaN  \n",
       "1  1.245472e+12          NaN  \n",
       "2  1.723305e+10          NaN  \n",
       "3  7.991060e+11          NaN  \n",
       "4  8.482465e+10          NaN  \n",
       "\n",
       "[5 rows x 69 columns]"
      ]
     },
     "metadata": {},
     "output_type": "display_data"
    }
   ],
   "source": [
    "print(\"GDP Data:\")\n",
    "display(gdp_df.head())"
   ]
  },
  {
   "cell_type": "code",
   "execution_count": 7,
   "id": "09d69ab2-b301-4c5f-be81-369b5abcb034",
   "metadata": {},
   "outputs": [
    {
     "name": "stdout",
     "output_type": "stream",
     "text": [
      "Exchange Rate Data:\n"
     ]
    },
    {
     "data": {
      "text/html": [
       "<div>\n",
       "<style scoped>\n",
       "    .dataframe tbody tr th:only-of-type {\n",
       "        vertical-align: middle;\n",
       "    }\n",
       "\n",
       "    .dataframe tbody tr th {\n",
       "        vertical-align: top;\n",
       "    }\n",
       "\n",
       "    .dataframe thead th {\n",
       "        text-align: right;\n",
       "    }\n",
       "</style>\n",
       "<table border=\"1\" class=\"dataframe\">\n",
       "  <thead>\n",
       "    <tr style=\"text-align: right;\">\n",
       "      <th></th>\n",
       "      <th>observation_date</th>\n",
       "      <th>AEXCHUS</th>\n",
       "    </tr>\n",
       "  </thead>\n",
       "  <tbody>\n",
       "    <tr>\n",
       "      <th>0</th>\n",
       "      <td>1981-01-01</td>\n",
       "      <td>1.7100</td>\n",
       "    </tr>\n",
       "    <tr>\n",
       "      <th>1</th>\n",
       "      <td>1982-01-01</td>\n",
       "      <td>1.8979</td>\n",
       "    </tr>\n",
       "    <tr>\n",
       "      <th>2</th>\n",
       "      <td>1983-01-01</td>\n",
       "      <td>1.9810</td>\n",
       "    </tr>\n",
       "    <tr>\n",
       "      <th>3</th>\n",
       "      <td>1984-01-01</td>\n",
       "      <td>2.3303</td>\n",
       "    </tr>\n",
       "    <tr>\n",
       "      <th>4</th>\n",
       "      <td>1985-01-01</td>\n",
       "      <td>2.9434</td>\n",
       "    </tr>\n",
       "  </tbody>\n",
       "</table>\n",
       "</div>"
      ],
      "text/plain": [
       "  observation_date  AEXCHUS\n",
       "0       1981-01-01   1.7100\n",
       "1       1982-01-01   1.8979\n",
       "2       1983-01-01   1.9810\n",
       "3       1984-01-01   2.3303\n",
       "4       1985-01-01   2.9434"
      ]
     },
     "metadata": {},
     "output_type": "display_data"
    }
   ],
   "source": [
    "print(\"Exchange Rate Data:\")\n",
    "display(exchange_df.head())"
   ]
  },
  {
   "cell_type": "code",
   "execution_count": 8,
   "id": "4d97ea8b-3808-4f8c-baff-59132d57d970",
   "metadata": {},
   "outputs": [],
   "source": [
    "# filtering GDP for china\n",
    "gdp_china = gdp_df[gdp_df[\"Country Name\"] == \"China\"]"
   ]
  },
  {
   "cell_type": "code",
   "execution_count": 10,
   "id": "c0393231-bda2-4faf-89e6-c1f624b202e0",
   "metadata": {},
   "outputs": [],
   "source": [
    "#dropping unnecessary columns\n",
    "gdp_china = gdp_china.drop(columns=[\"Country Name\", \"Country Code\", \"Indicator Name\", \"Indicator Code\", \"Unnamed: 68\"])"
   ]
  },
  {
   "cell_type": "code",
   "execution_count": 12,
   "id": "dd99ce09-10fc-4052-907f-b5e2441ce9cf",
   "metadata": {},
   "outputs": [],
   "source": [
    "#Reshaping gdp data from wide to long format\n",
    "gdp_china = gdp_china.melt(var_name=\"Year\", value_name=\"GDP (USD)\")"
   ]
  },
  {
   "cell_type": "code",
   "execution_count": 13,
   "id": "0b088fbb-fd65-4ac3-8dab-11841c9832be",
   "metadata": {},
   "outputs": [],
   "source": [
    "# Convert Year to integer\n",
    "gdp_china[\"Year\"] = gdp_china[\"Year\"].astype(int)"
   ]
  },
  {
   "cell_type": "code",
   "execution_count": 15,
   "id": "af123376-61a6-4fe3-8c7d-1df89aef0646",
   "metadata": {},
   "outputs": [],
   "source": [
    "#converting exchange rate date to datetime format\n",
    "exchange_df[\"observation_date\"] = pd.to_datetime(exchange_df[\"observation_date\"])\n",
    "exchange_df[\"Year\"] = exchange_df[\"observation_date\"].dt.year"
   ]
  },
  {
   "cell_type": "code",
   "execution_count": 16,
   "id": "dc244dbb-b756-4f10-bf18-7d1fa3ee6581",
   "metadata": {},
   "outputs": [],
   "source": [
    "#merge gdp & exchange rate data\n",
    "merged_df = pd.merge(gdp_china, exchange_df, on=\"Year\", how=\"inner\")"
   ]
  },
  {
   "cell_type": "code",
   "execution_count": 17,
   "id": "8dbfa72c-9ecf-434f-acda-031e5d91cafd",
   "metadata": {},
   "outputs": [
    {
     "data": {
      "text/html": [
       "<div>\n",
       "<style scoped>\n",
       "    .dataframe tbody tr th:only-of-type {\n",
       "        vertical-align: middle;\n",
       "    }\n",
       "\n",
       "    .dataframe tbody tr th {\n",
       "        vertical-align: top;\n",
       "    }\n",
       "\n",
       "    .dataframe thead th {\n",
       "        text-align: right;\n",
       "    }\n",
       "</style>\n",
       "<table border=\"1\" class=\"dataframe\">\n",
       "  <thead>\n",
       "    <tr style=\"text-align: right;\">\n",
       "      <th></th>\n",
       "      <th>Year</th>\n",
       "      <th>GDP (USD)</th>\n",
       "      <th>observation_date</th>\n",
       "      <th>AEXCHUS</th>\n",
       "    </tr>\n",
       "  </thead>\n",
       "  <tbody>\n",
       "    <tr>\n",
       "      <th>0</th>\n",
       "      <td>1981</td>\n",
       "      <td>1.958664e+11</td>\n",
       "      <td>1981-01-01</td>\n",
       "      <td>1.7100</td>\n",
       "    </tr>\n",
       "    <tr>\n",
       "      <th>1</th>\n",
       "      <td>1982</td>\n",
       "      <td>2.050897e+11</td>\n",
       "      <td>1982-01-01</td>\n",
       "      <td>1.8979</td>\n",
       "    </tr>\n",
       "    <tr>\n",
       "      <th>2</th>\n",
       "      <td>1983</td>\n",
       "      <td>2.306867e+11</td>\n",
       "      <td>1983-01-01</td>\n",
       "      <td>1.9810</td>\n",
       "    </tr>\n",
       "    <tr>\n",
       "      <th>3</th>\n",
       "      <td>1984</td>\n",
       "      <td>2.599465e+11</td>\n",
       "      <td>1984-01-01</td>\n",
       "      <td>2.3303</td>\n",
       "    </tr>\n",
       "    <tr>\n",
       "      <th>4</th>\n",
       "      <td>1985</td>\n",
       "      <td>3.094880e+11</td>\n",
       "      <td>1985-01-01</td>\n",
       "      <td>2.9434</td>\n",
       "    </tr>\n",
       "  </tbody>\n",
       "</table>\n",
       "</div>"
      ],
      "text/plain": [
       "   Year     GDP (USD) observation_date  AEXCHUS\n",
       "0  1981  1.958664e+11       1981-01-01   1.7100\n",
       "1  1982  2.050897e+11       1982-01-01   1.8979\n",
       "2  1983  2.306867e+11       1983-01-01   1.9810\n",
       "3  1984  2.599465e+11       1984-01-01   2.3303\n",
       "4  1985  3.094880e+11       1985-01-01   2.9434"
      ]
     },
     "metadata": {},
     "output_type": "display_data"
    }
   ],
   "source": [
    "display(merged_df.head())"
   ]
  },
  {
   "cell_type": "code",
   "execution_count": 18,
   "id": "dc43f912-092f-40d9-9423-c832a364b113",
   "metadata": {},
   "outputs": [],
   "source": [
    "import matplotlib.pyplot as plt"
   ]
  },
  {
   "cell_type": "code",
   "execution_count": 20,
   "id": "89f8f8bd-4ec3-4cd0-b0a8-ac3d2b3bae3f",
   "metadata": {},
   "outputs": [
    {
     "data": {
      "image/png": "[encoded data removed]",
      "text/plain": [
       "<Figure size 1200x600 with 1 Axes>"
      ]
     },
     "metadata": {},
     "output_type": "display_data"
    }
   ],
   "source": [
    "#plotting GDP growth \n",
    "plt.figure(figsize=(12,6))\n",
    "plt.plot(merged_df[\"Year\"], merged_df[\"GDP (USD)\"], marker='o', linestyle='-', color='b', label=\"GDP (USD)\")\n",
    "plt.xlabel(\"Year\")\n",
    "plt.ylabel(\"GDP (USD)\")\n",
    "plt.title(\"China's GDP Growth Over Time\")\n",
    "plt.legend()\n",
    "plt.grid()\n",
    "plt.show()"
   ]
  },
  {
   "cell_type": "code",
   "execution_count": 24,
   "id": "c98139de-0f74-44c1-befb-b91911644754",
   "metadata": {},
   "outputs": [
    {
     "name": "stdout",
     "output_type": "stream",
     "text": [
      "Index(['Year', 'GDP (USD)', 'observation_date', 'AEXCHUS'], dtype='object')\n"
     ]
    }
   ],
   "source": [
    "print(merged_df.columns)"
   ]
  },
  {
   "cell_type": "code",
   "execution_count": 25,
   "id": "3d62000a-b314-4aeb-a742-107ceae4d623",
   "metadata": {},
   "outputs": [],
   "source": [
    "merged_df.rename(columns={\"AEXCHUS\": \"CNY/USD Exchange Rate\"}, inplace=True)\n"
   ]
  },
  {
   "cell_type": "code",
   "execution_count": 26,
   "id": "382c42d7-a386-4029-b6f1-b0447b47b1d4",
   "metadata": {},
   "outputs": [
    {
     "data": {
      "image/png": "[encoded data removed]",
      "text/plain": [
       "<Figure size 1200x600 with 1 Axes>"
      ]
     },
     "metadata": {},
     "output_type": "display_data"
    }
   ],
   "source": [
    "#plot exchange rate trends \n",
    "plt.figure(figsize=(12,6))\n",
    "plt.plot(merged_df[\"Year\"], merged_df[\"CNY/USD Exchange Rate\"], marker='s', linestyle='-', color='r', label=\"CNY/USD Exchange Rate\")\n",
    "plt.xlabel(\"Year\")\n",
    "plt.ylabel(\"Exchange Rate\")\n",
    "plt.title(\"CNY/USD Exchange Rate Over Time\")\n",
    "plt.legend()\n",
    "plt.grid()\n",
    "plt.show()"
   ]
  },
  {
   "cell_type": "code",
   "execution_count": 27,
   "id": "53025bb5-5d05-447f-ac4b-10f785f9f360",
   "metadata": {},
   "outputs": [
    {
     "name": "stdout",
     "output_type": "stream",
     "text": [
      "Cleaned dataset saved successfully.\n"
     ]
    }
   ],
   "source": [
    "merged_df.to_csv(\"cleaned_china_gdp_exchange.csv\", index=False)\n",
    "print(\"Cleaned dataset saved successfully.\")"
   ]
  }
 ],
 "metadata": {
  "kernelspec": {
   "display_name": "Python 3 (ipykernel)",
   "language": "python",
   "name": "python3"
  },
  "language_info": {
   "codemirror_mode": {
    "name": "ipython",
    "version": 3
   },
   "file_extension": ".py",
   "mimetype": "text/x-python",
   "name": "python",
   "nbconvert_exporter": "python",
   "pygments_lexer": "ipython3",
   "version": "3.11.7"
  }
 },
 "nbformat": 4,
 "nbformat_minor": 5
}
